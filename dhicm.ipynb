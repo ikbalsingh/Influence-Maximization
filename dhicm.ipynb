{
  "nbformat": 4,
  "nbformat_minor": 0,
  "metadata": {
    "colab": {
      "provenance": []
    },
    "kernelspec": {
      "name": "python3",
      "display_name": "Python 3"
    },
    "language_info": {
      "name": "python"
    }
  },
  "cells": [
    {
      "cell_type": "code",
      "execution_count": null,
      "metadata": {
        "id": "gpHBUOlPqzjA"
      },
      "outputs": [],
      "source": [
        "import networkx as nx\n",
        "import numpy as np\n",
        "import random\n",
        "import time\n",
        "\n",
        "def dhicm_dynamic_p(G, k):\n",
        "    S = set()\n",
        "    V = set(G.nodes())  # Assuming G is a NetworkX graph or a similar graph representation\n",
        "    ddv = {v: G.in_degree(v) for v in V}\n",
        "\n",
        "    for i in range(k):\n",
        "        u = max((v for v in V - S), key=lambda v: ddv[v])\n",
        "        S.add(u)\n",
        "\n",
        "        for v in G.predecessors(u):\n",
        "            if v not in S:\n",
        "              if u in G.predecessors(v):\n",
        "                common_neighbors = set(G.predecessors(v)).intersection(set(G.predecessors(u)))\n",
        "                p = 0.01 + ((G.in_degree(u) + G.in_degree(v))/G.number_of_nodes()) + (len(common_neighbors)/G.number_of_nodes())\n",
        "                p *= G[u][v]['weight'] # accounting for edge weight\n",
        "                ddv[v] = G.in_degree(v) - 1 - ((G.in_degree(u) - 1) * p)\n",
        "    return S\n",
        "\n",
        "def degree_centrality(G, k):\n",
        "    S = set()\n",
        "    V = set(G.nodes())  # Assuming G is a NetworkX graph or a similar graph representation\n",
        "    ddv = {v: G.in_degree(v) for v in V}\n",
        "\n",
        "    for i in range(k):\n",
        "        u = max((v for v in V - S), key=lambda v: ddv[v])\n",
        "        S.add(u)\n",
        "\n",
        "    return S\n",
        "\n",
        "def modified_ICM(graph_object,S,mc):\n",
        "    \"\"\"\n",
        "    Inputs: graph_object: must be networkx directed graph\n",
        "            S:  List of seed nodes\n",
        "            p:  Disease propagation probability\n",
        "            mc: Number of Monte-Carlo simulations,\n",
        "    Output: Average number of nodes influenced by seed nodes in S\n",
        "    \"\"\"\n",
        "\n",
        "    # Loop over the Monte-Carlo Simulations\n",
        "    spread = []\n",
        "    for i in range(mc):\n",
        "\n",
        "        # Simulate propagation process\n",
        "        new_active, A = S[:], S[:]\n",
        "        while new_active:\n",
        "            # 1. Find out-neighbors(i.e. successor nodes) for each newly active node\n",
        "            targets = modified_propagate(graph_object, new_active)\n",
        "\n",
        "            # 2. Determine newly activated neighbors (set seed and sort for consistency)\n",
        "            np.random.seed(i)\n",
        "            new_ones = []\n",
        "            for (curr_target, p) in targets:\n",
        "              if np.random.uniform(0,1) < p:\n",
        "                new_ones.append(curr_target)\n",
        "\n",
        "            # 3. Find newly activated nodes and add to the set of activated nodes\n",
        "            new_active = list(set(new_ones) - set(A))\n",
        "            A += new_active\n",
        "\n",
        "        spread.append(len(A))\n",
        "\n",
        "    return(np.mean(spread),A)\n",
        "\n",
        "def modified_propagate(g, new_active):\n",
        "    targets = []\n",
        "    for node in new_active:\n",
        "      for neighbor in g.predecessors(node):\n",
        "        common_neighbors = set(G.predecessors(node)).intersection(set(G.predecessors(neighbor)))\n",
        "        p = 0.01 + ((G.in_degree(node) + G.in_degree(neighbor))/G.number_of_nodes()) + (len(common_neighbors)/G.number_of_nodes())\n",
        "        p *= G[neighbor][node]['weight'] # accounting for edge weight\n",
        "        targets.append((neighbor, p))\n",
        "\n",
        "    return targets"
      ]
    },
    {
      "cell_type": "code",
      "source": [
        "# creating graph\n",
        "file1 = open('/content/drive/MyDrive/higgs-retweet_network.edgelist', 'r')\n",
        "Lines = file1.readlines()\n",
        "edge_list = []\n",
        "for line in Lines:\n",
        "  u_v = line.strip().split()\n",
        "  edge_list.append((int(u_v[0]), int(u_v[1]), int(u_v[2])))\n",
        "\n",
        "G = nx.DiGraph()\n",
        "G.add_weighted_edges_from(edge_list)  # using a list of edge tuples\n",
        "total_edge_weight = G.size(weight = 'weight')"
      ],
      "metadata": {
        "id": "TjbSFmUr7t2j"
      },
      "execution_count": null,
      "outputs": []
    },
    {
      "cell_type": "code",
      "source": [
        "total_edge_weight = 0\n",
        "for curr_node in G.nodes():\n",
        "  for pred in G.predecessors(curr_node):\n",
        "    total_edge_weight += G[pred][curr_node]['weight']\n",
        "total_edge_weight"
      ],
      "metadata": {
        "colab": {
          "base_uri": "https://localhost:8080/"
        },
        "id": "wcYUopCGWH0y",
        "outputId": "0567fdf8-d80f-46c0-9f82-72ca48a945cb"
      },
      "execution_count": null,
      "outputs": [
        {
          "output_type": "execute_result",
          "data": {
            "text/plain": [
              "354930"
            ]
          },
          "metadata": {},
          "execution_count": 7
        }
      ]
    },
    {
      "cell_type": "code",
      "source": [
        "#getting seed nodes using dhicm\n",
        "start_time = time.time()\n",
        "s_dhicm = dhicm_dynamic_p(G, 1000)\n",
        "s_degree = degree_centrality(G, 1000)\n",
        "print(\"Time getting seed set: \", time.time() - start_time)"
      ],
      "metadata": {
        "id": "uKM26SbNriLW",
        "colab": {
          "base_uri": "https://localhost:8080/"
        },
        "outputId": "67e48bbb-3ea6-4fbb-8c70-a1f0faa4511e"
      },
      "execution_count": null,
      "outputs": [
        {
          "output_type": "stream",
          "name": "stdout",
          "text": [
            "Time getting seed set:  253.3605251312256\n"
          ]
        }
      ]
    },
    {
      "cell_type": "code",
      "source": [
        "start_time = time.time()\n",
        "#getting mean spread\n",
        "(mean_spread, A) = modified_ICM(G, list(s_dhicm), 10)\n",
        "print(\"Mean spread for dynamic p (DHICM): \", mean_spread)\n",
        "print(\"Duration: \", time.time() - start_time)"
      ],
      "metadata": {
        "id": "pg5PkfnjYQKT",
        "colab": {
          "base_uri": "https://localhost:8080/"
        },
        "outputId": "3e3cdcbe-884a-49e1-c92f-f09979541b00"
      },
      "execution_count": null,
      "outputs": [
        {
          "output_type": "stream",
          "name": "stdout",
          "text": [
            "Mean spread for dynamic p (DHICM):  8028.4\n",
            "Duration:  280.58278703689575\n"
          ]
        }
      ]
    },
    {
      "cell_type": "code",
      "source": [
        "start_time = time.time()\n",
        "#getting mean spread\n",
        "(mean_spread, A) = modified_ICM(G, list(s_degree), 10)\n",
        "print(\"Mean spread for dynamic p (Degree Centrality): \", mean_spread)\n",
        "print(\"Duration: \", time.time() - start_time)"
      ],
      "metadata": {
        "colab": {
          "base_uri": "https://localhost:8080/"
        },
        "id": "xf9BLArqz2ti",
        "outputId": "adcbfe90-55b8-4cd0-ddf5-9e3ed70570fa"
      },
      "execution_count": null,
      "outputs": [
        {
          "output_type": "stream",
          "name": "stdout",
          "text": [
            "Mean spread for dynamic p (Degree Centrality):  8028.4\n",
            "Duration:  280.08272767066956\n"
          ]
        }
      ]
    }
  ]
}